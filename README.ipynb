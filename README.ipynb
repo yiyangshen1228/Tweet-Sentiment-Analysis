{
 "cells": [
  {
   "cell_type": "markdown",
   "id": "7cbd7f7e",
   "metadata": {},
   "source": [
    "# README"
   ]
  },
  {
   "cell_type": "markdown",
   "id": "9e3235a4",
   "metadata": {},
   "source": [
    "### Backgroud"
   ]
  },
  {
   "cell_type": "markdown",
   "id": "0be3d057",
   "metadata": {},
   "source": [
    "This project use sklearn and other libraries to run different machine learning models to analysis the sentiment of Tweets whether belong to positive or negative. Also use semi-supervised learning model to find out whether the unlabeled data can improve the sentiment classification of Twitter or not.\n",
    "\n",
    "The code is divided into the following steps：\n",
    "1. Import packages and libraries.\n",
    "2. Read data set.\n",
    "3. Feature engineering and data cleaning.\n",
    "4. Import machine learning models and make prediction.\n",
    "5. Compare the results and find the best performance one for semi-supervised learning.\n",
    "6. Get the results from semi-supervised learning model and compare with the supervised model results.\n",
    "7. Use the best performance model to predict the test dataset and upload the results to Kaggle."
   ]
  },
  {
   "cell_type": "markdown",
   "id": "da759e40",
   "metadata": {},
   "source": [
    "### Import packages"
   ]
  },
  {
   "cell_type": "markdown",
   "id": "2c498810",
   "metadata": {},
   "source": [
    "Here are the packages that this project use:\n",
    "pandas,\n",
    "re,\n",
    "numpy,\n",
    "string,\n",
    "nltk,\n",
    "textblob,\n",
    "sklearn,\n",
    "matplotlib."
   ]
  },
  {
   "cell_type": "markdown",
   "id": "3df65fc2",
   "metadata": {},
   "source": [
    "### Read data"
   ]
  },
  {
   "cell_type": "markdown",
   "id": "289f021a",
   "metadata": {},
   "source": [
    "This project use two kinds of data set, one is the raw tweet data set, the other is Embedding tweet data set. All of these data set split into three data sets, one for training the ML model, the other for developing the ML model, the last is going to test the ML model."
   ]
  },
  {
   "cell_type": "markdown",
   "id": "685a047f",
   "metadata": {},
   "source": [
    "### Feature engineering and data cleaning"
   ]
  },
  {
   "cell_type": "markdown",
   "id": "897507e6",
   "metadata": {},
   "source": [
    "Use raw tweet data set for data cleaning and feature engineering, remove some useless data from the raw data set like symbols, punctuations, url, stopwords, etc. Then engineer two new feature named subjectivity and polarity, append these two feature to the embedding feature data set for ML model make prediction."
   ]
  },
  {
   "cell_type": "markdown",
   "id": "79f743a4",
   "metadata": {},
   "source": [
    "### Evaluation models"
   ]
  },
  {
   "cell_type": "markdown",
   "id": "0be2a523",
   "metadata": {},
   "source": [
    "This project use five machine learning models to evaluate the performance of Tweet sentiment prediction, four supervised models and one semi-supervised model. The supervised model are Gaussian Naive Bayes model, logistic regression model, decision tree model, and random forest model, evaluate the prediction accuracy and other factors and choose the model with the best performance to use it in the semi-supervised model."
   ]
  },
  {
   "cell_type": "markdown",
   "id": "02b4bf1f",
   "metadata": {},
   "source": [
    "### Improve model"
   ]
  },
  {
   "cell_type": "markdown",
   "id": "8ffb1096",
   "metadata": {},
   "source": [
    "Since the logistic regression model have the highest accuracy result, try to use gradient descent method to adjust the parameters in the model and try to get the best performance model for use in the semi-supervised learning model."
   ]
  },
  {
   "cell_type": "markdown",
   "id": "09e36c3f",
   "metadata": {},
   "source": [
    "### Semi-supervised learning model"
   ]
  },
  {
   "cell_type": "markdown",
   "id": "dedd5810",
   "metadata": {},
   "source": [
    "This project use the self-training classifier as semi-supervised model to train the tweet data set, the data combine the labeled data set and unlabeled data set which the result can show whetehr the unlabeled data improve the Tweet sentiment classification or not."
   ]
  },
  {
   "cell_type": "markdown",
   "id": "88b82f00",
   "metadata": {},
   "source": [
    "### Predict the test data"
   ]
  },
  {
   "cell_type": "markdown",
   "id": "f0c6a13e",
   "metadata": {},
   "source": [
    "Choose one of the models among five models above with the highest prediction accuracy to predict the test data set, turn the prediction result into a CSV file and upload to the kaggle for competition."
   ]
  },
  {
   "cell_type": "code",
   "execution_count": null,
   "id": "cc5182ae",
   "metadata": {},
   "outputs": [],
   "source": []
  }
 ],
 "metadata": {
  "kernelspec": {
   "display_name": "Python 3 (ipykernel)",
   "language": "python",
   "name": "python3"
  },
  "language_info": {
   "codemirror_mode": {
    "name": "ipython",
    "version": 3
   },
   "file_extension": ".py",
   "mimetype": "text/x-python",
   "name": "python",
   "nbconvert_exporter": "python",
   "pygments_lexer": "ipython3",
   "version": "3.9.7"
  }
 },
 "nbformat": 4,
 "nbformat_minor": 5
}
